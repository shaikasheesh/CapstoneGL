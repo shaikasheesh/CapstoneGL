{
  "nbformat": 4,
  "nbformat_minor": 0,
  "metadata": {
    "colab": {
      "provenance": [],
      "mount_file_id": "10O4DuaTyKenyGJlrciVxLE3LMWQ-XOFo",
      "authorship_tag": "ABX9TyNqDZdoPi6cT89v1C1O+qzi",
      "include_colab_link": true
    },
    "kernelspec": {
      "name": "python3",
      "display_name": "Python 3"
    },
    "language_info": {
      "name": "python"
    },
    "accelerator": "GPU",
    "gpuClass": "standard"
  },
  "cells": [
    {
      "cell_type": "markdown",
      "metadata": {
        "id": "view-in-github",
        "colab_type": "text"
      },
      "source": [
        "<a href=\"https://colab.research.google.com/github/shaikasheesh/CapstoneGL/blob/master/Model_building.ipynb\" target=\"_parent\"><img src=\"https://colab.research.google.com/assets/colab-badge.svg\" alt=\"Open In Colab\"/></a>"
      ]
    },
    {
      "cell_type": "code",
      "execution_count": 1,
      "metadata": {
        "id": "q7YwWhjui6JB"
      },
      "outputs": [],
      "source": [
        "import pandas as pd"
      ]
    },
    {
      "cell_type": "code",
      "source": [
        "data_final = pd.read_csv('/content/drive/MyDrive/Colab Notebooks/data_final.csv')\n",
        "data_final.head(2)"
      ],
      "metadata": {
        "colab": {
          "base_uri": "https://localhost:8080/",
          "height": 327
        },
        "id": "9sDalWWNjae3",
        "outputId": "050b6b26-31a0-4847-c05a-ab7657265d02"
      },
      "execution_count": 2,
      "outputs": [
        {
          "output_type": "execute_result",
          "data": {
            "text/plain": [
              "   Unnamed: 0  Bankrupt?  \\\n",
              "0           0        1.0   \n",
              "1           1        1.0   \n",
              "\n",
              "    ROA(C) before interest and depreciation before interest  \\\n",
              "0                                           0.370594          \n",
              "1                                           0.464291          \n",
              "\n",
              "    Operating Gross Margin   Operating Profit Rate  \\\n",
              "0                 0.601457                0.998969   \n",
              "1                 0.610235                0.998946   \n",
              "\n",
              "    Non-industry income and expenditure/revenue   Operating Expense Rate  \\\n",
              "0                                      0.302646            -3.685025e-14   \n",
              "1                                      0.303556             3.466254e-15   \n",
              "\n",
              "    Research and development expense rate   Cash flow rate  \\\n",
              "0                               -0.173178         0.458143   \n",
              "1                               -0.173178         0.461867   \n",
              "\n",
              "    Interest-bearing debt interest rate  ...   Working capitcal Turnover Rate  \\\n",
              "0                              1.266458  ...                         0.593831   \n",
              "1                              1.021944  ...                         0.593916   \n",
              "\n",
              "    Cash Turnover Rate   Cash Flow to Sales   Fixed Assets to Assets  \\\n",
              "0            -0.172398             0.671568                 0.801932   \n",
              "1             0.287330             0.671570                 0.962361   \n",
              "\n",
              "    Equity to Long-term Liability   Cash Flow to Total Assets  \\\n",
              "0                        0.126549                    0.637555   \n",
              "1                        0.120916                    0.641100   \n",
              "\n",
              "    Total assets to GNP price   No-credit Interval  \\\n",
              "0                    1.655335             0.622879   \n",
              "1                    1.446289             0.623652   \n",
              "\n",
              "    Degree of Financial Leverage (DFL)  \\\n",
              "0                             0.026601   \n",
              "1                             0.026722   \n",
              "\n",
              "    Interest Coverage Ratio (Interest expense to EBIT)  \n",
              "0                                           0.564050    \n",
              "1                                           0.570175    \n",
              "\n",
              "[2 rows x 53 columns]"
            ],
            "text/html": [
              "\n",
              "  <div id=\"df-4540473e-fad8-4d07-9cc3-be172a0b657a\">\n",
              "    <div class=\"colab-df-container\">\n",
              "      <div>\n",
              "<style scoped>\n",
              "    .dataframe tbody tr th:only-of-type {\n",
              "        vertical-align: middle;\n",
              "    }\n",
              "\n",
              "    .dataframe tbody tr th {\n",
              "        vertical-align: top;\n",
              "    }\n",
              "\n",
              "    .dataframe thead th {\n",
              "        text-align: right;\n",
              "    }\n",
              "</style>\n",
              "<table border=\"1\" class=\"dataframe\">\n",
              "  <thead>\n",
              "    <tr style=\"text-align: right;\">\n",
              "      <th></th>\n",
              "      <th>Unnamed: 0</th>\n",
              "      <th>Bankrupt?</th>\n",
              "      <th>ROA(C) before interest and depreciation before interest</th>\n",
              "      <th>Operating Gross Margin</th>\n",
              "      <th>Operating Profit Rate</th>\n",
              "      <th>Non-industry income and expenditure/revenue</th>\n",
              "      <th>Operating Expense Rate</th>\n",
              "      <th>Research and development expense rate</th>\n",
              "      <th>Cash flow rate</th>\n",
              "      <th>Interest-bearing debt interest rate</th>\n",
              "      <th>...</th>\n",
              "      <th>Working capitcal Turnover Rate</th>\n",
              "      <th>Cash Turnover Rate</th>\n",
              "      <th>Cash Flow to Sales</th>\n",
              "      <th>Fixed Assets to Assets</th>\n",
              "      <th>Equity to Long-term Liability</th>\n",
              "      <th>Cash Flow to Total Assets</th>\n",
              "      <th>Total assets to GNP price</th>\n",
              "      <th>No-credit Interval</th>\n",
              "      <th>Degree of Financial Leverage (DFL)</th>\n",
              "      <th>Interest Coverage Ratio (Interest expense to EBIT)</th>\n",
              "    </tr>\n",
              "  </thead>\n",
              "  <tbody>\n",
              "    <tr>\n",
              "      <th>0</th>\n",
              "      <td>0</td>\n",
              "      <td>1.0</td>\n",
              "      <td>0.370594</td>\n",
              "      <td>0.601457</td>\n",
              "      <td>0.998969</td>\n",
              "      <td>0.302646</td>\n",
              "      <td>-3.685025e-14</td>\n",
              "      <td>-0.173178</td>\n",
              "      <td>0.458143</td>\n",
              "      <td>1.266458</td>\n",
              "      <td>...</td>\n",
              "      <td>0.593831</td>\n",
              "      <td>-0.172398</td>\n",
              "      <td>0.671568</td>\n",
              "      <td>0.801932</td>\n",
              "      <td>0.126549</td>\n",
              "      <td>0.637555</td>\n",
              "      <td>1.655335</td>\n",
              "      <td>0.622879</td>\n",
              "      <td>0.026601</td>\n",
              "      <td>0.564050</td>\n",
              "    </tr>\n",
              "    <tr>\n",
              "      <th>1</th>\n",
              "      <td>1</td>\n",
              "      <td>1.0</td>\n",
              "      <td>0.464291</td>\n",
              "      <td>0.610235</td>\n",
              "      <td>0.998946</td>\n",
              "      <td>0.303556</td>\n",
              "      <td>3.466254e-15</td>\n",
              "      <td>-0.173178</td>\n",
              "      <td>0.461867</td>\n",
              "      <td>1.021944</td>\n",
              "      <td>...</td>\n",
              "      <td>0.593916</td>\n",
              "      <td>0.287330</td>\n",
              "      <td>0.671570</td>\n",
              "      <td>0.962361</td>\n",
              "      <td>0.120916</td>\n",
              "      <td>0.641100</td>\n",
              "      <td>1.446289</td>\n",
              "      <td>0.623652</td>\n",
              "      <td>0.026722</td>\n",
              "      <td>0.570175</td>\n",
              "    </tr>\n",
              "  </tbody>\n",
              "</table>\n",
              "<p>2 rows × 53 columns</p>\n",
              "</div>\n",
              "      <button class=\"colab-df-convert\" onclick=\"convertToInteractive('df-4540473e-fad8-4d07-9cc3-be172a0b657a')\"\n",
              "              title=\"Convert this dataframe to an interactive table.\"\n",
              "              style=\"display:none;\">\n",
              "        \n",
              "  <svg xmlns=\"http://www.w3.org/2000/svg\" height=\"24px\"viewBox=\"0 0 24 24\"\n",
              "       width=\"24px\">\n",
              "    <path d=\"M0 0h24v24H0V0z\" fill=\"none\"/>\n",
              "    <path d=\"M18.56 5.44l.94 2.06.94-2.06 2.06-.94-2.06-.94-.94-2.06-.94 2.06-2.06.94zm-11 1L8.5 8.5l.94-2.06 2.06-.94-2.06-.94L8.5 2.5l-.94 2.06-2.06.94zm10 10l.94 2.06.94-2.06 2.06-.94-2.06-.94-.94-2.06-.94 2.06-2.06.94z\"/><path d=\"M17.41 7.96l-1.37-1.37c-.4-.4-.92-.59-1.43-.59-.52 0-1.04.2-1.43.59L10.3 9.45l-7.72 7.72c-.78.78-.78 2.05 0 2.83L4 21.41c.39.39.9.59 1.41.59.51 0 1.02-.2 1.41-.59l7.78-7.78 2.81-2.81c.8-.78.8-2.07 0-2.86zM5.41 20L4 18.59l7.72-7.72 1.47 1.35L5.41 20z\"/>\n",
              "  </svg>\n",
              "      </button>\n",
              "      \n",
              "  <style>\n",
              "    .colab-df-container {\n",
              "      display:flex;\n",
              "      flex-wrap:wrap;\n",
              "      gap: 12px;\n",
              "    }\n",
              "\n",
              "    .colab-df-convert {\n",
              "      background-color: #E8F0FE;\n",
              "      border: none;\n",
              "      border-radius: 50%;\n",
              "      cursor: pointer;\n",
              "      display: none;\n",
              "      fill: #1967D2;\n",
              "      height: 32px;\n",
              "      padding: 0 0 0 0;\n",
              "      width: 32px;\n",
              "    }\n",
              "\n",
              "    .colab-df-convert:hover {\n",
              "      background-color: #E2EBFA;\n",
              "      box-shadow: 0px 1px 2px rgba(60, 64, 67, 0.3), 0px 1px 3px 1px rgba(60, 64, 67, 0.15);\n",
              "      fill: #174EA6;\n",
              "    }\n",
              "\n",
              "    [theme=dark] .colab-df-convert {\n",
              "      background-color: #3B4455;\n",
              "      fill: #D2E3FC;\n",
              "    }\n",
              "\n",
              "    [theme=dark] .colab-df-convert:hover {\n",
              "      background-color: #434B5C;\n",
              "      box-shadow: 0px 1px 3px 1px rgba(0, 0, 0, 0.15);\n",
              "      filter: drop-shadow(0px 1px 2px rgba(0, 0, 0, 0.3));\n",
              "      fill: #FFFFFF;\n",
              "    }\n",
              "  </style>\n",
              "\n",
              "      <script>\n",
              "        const buttonEl =\n",
              "          document.querySelector('#df-4540473e-fad8-4d07-9cc3-be172a0b657a button.colab-df-convert');\n",
              "        buttonEl.style.display =\n",
              "          google.colab.kernel.accessAllowed ? 'block' : 'none';\n",
              "\n",
              "        async function convertToInteractive(key) {\n",
              "          const element = document.querySelector('#df-4540473e-fad8-4d07-9cc3-be172a0b657a');\n",
              "          const dataTable =\n",
              "            await google.colab.kernel.invokeFunction('convertToInteractive',\n",
              "                                                     [key], {});\n",
              "          if (!dataTable) return;\n",
              "\n",
              "          const docLinkHtml = 'Like what you see? Visit the ' +\n",
              "            '<a target=\"_blank\" href=https://colab.research.google.com/notebooks/data_table.ipynb>data table notebook</a>'\n",
              "            + ' to learn more about interactive tables.';\n",
              "          element.innerHTML = '';\n",
              "          dataTable['output_type'] = 'display_data';\n",
              "          await google.colab.output.renderOutput(dataTable, element);\n",
              "          const docLink = document.createElement('div');\n",
              "          docLink.innerHTML = docLinkHtml;\n",
              "          element.appendChild(docLink);\n",
              "        }\n",
              "      </script>\n",
              "    </div>\n",
              "  </div>\n",
              "  "
            ]
          },
          "metadata": {},
          "execution_count": 2
        }
      ]
    },
    {
      "cell_type": "code",
      "source": [
        "x = data_final.drop('Bankrupt?',axis =1)\n",
        "y = data_final['Bankrupt?']"
      ],
      "metadata": {
        "id": "nn_BOqLijf-l"
      },
      "execution_count": 4,
      "outputs": []
    },
    {
      "cell_type": "code",
      "source": [
        "from sklearn.model_selection import train_test_splitbb"
      ],
      "metadata": {
        "id": "WbzU2UZjjnru"
      },
      "execution_count": 5,
      "outputs": []
    },
    {
      "cell_type": "code",
      "source": [
        "xtrain,xtest,ytrain,ytest = train_test_split(x,y,train_size=0.7,stratify= y)"
      ],
      "metadata": {
        "id": "3u1LENr0jx9B"
      },
      "execution_count": 6,
      "outputs": []
    },
    {
      "cell_type": "code",
      "source": [
        "from sklearn.metrics import accuracy_score,recall_score,precision_score,f1_score,classification_report"
      ],
      "metadata": {
        "id": "_DSDaDEbj1-2"
      },
      "execution_count": 7,
      "outputs": []
    },
    {
      "cell_type": "code",
      "source": [
        "def model(func,xtrain,ytrain,xtest,ytest,flag):\n",
        "    mdl = func.fit(xtrain,ytrain)\n",
        "    ypred_train = mdl.predict(xtrain)\n",
        "    ypred_test = mdl.predict(xtest)\n",
        "    if flag == 'X':\n",
        "        return accuracy_score(ytrain,ypred_train),recall_score(ytrain,ypred_train),precision_score(ytrain,ypred_train),f1_score(ytrain,ypred_train)\n",
        "    else:\n",
        "        return accuracy_score(ytest,ypred_test),recall_score(ytest,ypred_test),precision_score(ytest,ypred_test),f1_score(ytest,ypred_test)\n",
        "    "
      ],
      "metadata": {
        "id": "WY6zMtFTj4fW"
      },
      "execution_count": 8,
      "outputs": []
    },
    {
      "cell_type": "code",
      "source": [
        "from sklearn.linear_model import LogisticRegression"
      ],
      "metadata": {
        "id": "b9g3780Yj6YV"
      },
      "execution_count": 9,
      "outputs": []
    },
    {
      "cell_type": "code",
      "source": [
        "lr = LogisticRegression()"
      ],
      "metadata": {
        "id": "u4D1445aj8wi"
      },
      "execution_count": 10,
      "outputs": []
    },
    {
      "cell_type": "code",
      "source": [
        "df_log_reg_scorecard = pd.DataFrame(columns=['model','Train accuracy','Test accuracy',\n",
        "                                             'Train recall','Test recall',\n",
        "                                             'Train precision','Test precision',\n",
        "                                             'Train f1score','Test f1score'])\n",
        "def update_test_score(model,train_acc,test_acc,train_recall,test_recall,train_preci,test_preci,train_f1,test_f1):\n",
        "    global df_log_reg_scorecard\n",
        "    df_log_reg_scorecard = df_log_reg_scorecard.append({'model':model,\n",
        "                                'Train accuracy':train_acc,\n",
        "                                'Test accuracy':test_acc,\n",
        "                                'Train recall':train_recall,                       \n",
        "                                'Test recall':test_recall,\n",
        "                                'Train precision':train_preci,\n",
        "                                'Test precision':test_preci,\n",
        "                                'Train f1score':train_f1 ,                      \n",
        "                                'Test f1score':test_f1},ignore_index = True)"
      ],
      "metadata": {
        "id": "T_xzkV3aj-2q"
      },
      "execution_count": 56,
      "outputs": []
    },
    {
      "cell_type": "code",
      "source": [
        "train_acc,train_recall,train_preci,train_f1 = model(lr,xtrain,ytrain,xtest,ytest,'X')\n",
        "test_acc,test_recall,test_preci,test_f1 = model(lr,xtrain,ytrain,xtest,ytest,'')\n",
        "update_test_score('Logistic without tuning',train_acc,test_acc,train_recall,test_recall,train_preci,test_preci,train_f1,test_f1)"
      ],
      "metadata": {
        "id": "2jH8kPrOkApG"
      },
      "execution_count": 57,
      "outputs": []
    },
    {
      "cell_type": "code",
      "source": [
        "df_log_reg_scorecard"
      ],
      "metadata": {
        "colab": {
          "base_uri": "https://localhost:8080/",
          "height": 145
        },
        "id": "QjkLT-WFkDVl",
        "outputId": "6f1ee960-408c-4d2a-91d3-f5041f117ff8"
      },
      "execution_count": 13,
      "outputs": [
        {
          "output_type": "execute_result",
          "data": {
            "text/plain": [
              "                     model  Train accuracy  Test accuracy  Train recall  \\\n",
              "0  Logistic without tuning        0.973944       0.973953           0.0   \n",
              "\n",
              "   Test recall  Train precision  Test precision  Train f1score  Test f1score  \n",
              "0          0.0              0.0             0.0            0.0           0.0  "
            ],
            "text/html": [
              "\n",
              "  <div id=\"df-8e2ebd6c-7031-4226-9e5e-791bf6cfbd0c\">\n",
              "    <div class=\"colab-df-container\">\n",
              "      <div>\n",
              "<style scoped>\n",
              "    .dataframe tbody tr th:only-of-type {\n",
              "        vertical-align: middle;\n",
              "    }\n",
              "\n",
              "    .dataframe tbody tr th {\n",
              "        vertical-align: top;\n",
              "    }\n",
              "\n",
              "    .dataframe thead th {\n",
              "        text-align: right;\n",
              "    }\n",
              "</style>\n",
              "<table border=\"1\" class=\"dataframe\">\n",
              "  <thead>\n",
              "    <tr style=\"text-align: right;\">\n",
              "      <th></th>\n",
              "      <th>model</th>\n",
              "      <th>Train accuracy</th>\n",
              "      <th>Test accuracy</th>\n",
              "      <th>Train recall</th>\n",
              "      <th>Test recall</th>\n",
              "      <th>Train precision</th>\n",
              "      <th>Test precision</th>\n",
              "      <th>Train f1score</th>\n",
              "      <th>Test f1score</th>\n",
              "    </tr>\n",
              "  </thead>\n",
              "  <tbody>\n",
              "    <tr>\n",
              "      <th>0</th>\n",
              "      <td>Logistic without tuning</td>\n",
              "      <td>0.973944</td>\n",
              "      <td>0.973953</td>\n",
              "      <td>0.0</td>\n",
              "      <td>0.0</td>\n",
              "      <td>0.0</td>\n",
              "      <td>0.0</td>\n",
              "      <td>0.0</td>\n",
              "      <td>0.0</td>\n",
              "    </tr>\n",
              "  </tbody>\n",
              "</table>\n",
              "</div>\n",
              "      <button class=\"colab-df-convert\" onclick=\"convertToInteractive('df-8e2ebd6c-7031-4226-9e5e-791bf6cfbd0c')\"\n",
              "              title=\"Convert this dataframe to an interactive table.\"\n",
              "              style=\"display:none;\">\n",
              "        \n",
              "  <svg xmlns=\"http://www.w3.org/2000/svg\" height=\"24px\"viewBox=\"0 0 24 24\"\n",
              "       width=\"24px\">\n",
              "    <path d=\"M0 0h24v24H0V0z\" fill=\"none\"/>\n",
              "    <path d=\"M18.56 5.44l.94 2.06.94-2.06 2.06-.94-2.06-.94-.94-2.06-.94 2.06-2.06.94zm-11 1L8.5 8.5l.94-2.06 2.06-.94-2.06-.94L8.5 2.5l-.94 2.06-2.06.94zm10 10l.94 2.06.94-2.06 2.06-.94-2.06-.94-.94-2.06-.94 2.06-2.06.94z\"/><path d=\"M17.41 7.96l-1.37-1.37c-.4-.4-.92-.59-1.43-.59-.52 0-1.04.2-1.43.59L10.3 9.45l-7.72 7.72c-.78.78-.78 2.05 0 2.83L4 21.41c.39.39.9.59 1.41.59.51 0 1.02-.2 1.41-.59l7.78-7.78 2.81-2.81c.8-.78.8-2.07 0-2.86zM5.41 20L4 18.59l7.72-7.72 1.47 1.35L5.41 20z\"/>\n",
              "  </svg>\n",
              "      </button>\n",
              "      \n",
              "  <style>\n",
              "    .colab-df-container {\n",
              "      display:flex;\n",
              "      flex-wrap:wrap;\n",
              "      gap: 12px;\n",
              "    }\n",
              "\n",
              "    .colab-df-convert {\n",
              "      background-color: #E8F0FE;\n",
              "      border: none;\n",
              "      border-radius: 50%;\n",
              "      cursor: pointer;\n",
              "      display: none;\n",
              "      fill: #1967D2;\n",
              "      height: 32px;\n",
              "      padding: 0 0 0 0;\n",
              "      width: 32px;\n",
              "    }\n",
              "\n",
              "    .colab-df-convert:hover {\n",
              "      background-color: #E2EBFA;\n",
              "      box-shadow: 0px 1px 2px rgba(60, 64, 67, 0.3), 0px 1px 3px 1px rgba(60, 64, 67, 0.15);\n",
              "      fill: #174EA6;\n",
              "    }\n",
              "\n",
              "    [theme=dark] .colab-df-convert {\n",
              "      background-color: #3B4455;\n",
              "      fill: #D2E3FC;\n",
              "    }\n",
              "\n",
              "    [theme=dark] .colab-df-convert:hover {\n",
              "      background-color: #434B5C;\n",
              "      box-shadow: 0px 1px 3px 1px rgba(0, 0, 0, 0.15);\n",
              "      filter: drop-shadow(0px 1px 2px rgba(0, 0, 0, 0.3));\n",
              "      fill: #FFFFFF;\n",
              "    }\n",
              "  </style>\n",
              "\n",
              "      <script>\n",
              "        const buttonEl =\n",
              "          document.querySelector('#df-8e2ebd6c-7031-4226-9e5e-791bf6cfbd0c button.colab-df-convert');\n",
              "        buttonEl.style.display =\n",
              "          google.colab.kernel.accessAllowed ? 'block' : 'none';\n",
              "\n",
              "        async function convertToInteractive(key) {\n",
              "          const element = document.querySelector('#df-8e2ebd6c-7031-4226-9e5e-791bf6cfbd0c');\n",
              "          const dataTable =\n",
              "            await google.colab.kernel.invokeFunction('convertToInteractive',\n",
              "                                                     [key], {});\n",
              "          if (!dataTable) return;\n",
              "\n",
              "          const docLinkHtml = 'Like what you see? Visit the ' +\n",
              "            '<a target=\"_blank\" href=https://colab.research.google.com/notebooks/data_table.ipynb>data table notebook</a>'\n",
              "            + ' to learn more about interactive tables.';\n",
              "          element.innerHTML = '';\n",
              "          dataTable['output_type'] = 'display_data';\n",
              "          await google.colab.output.renderOutput(dataTable, element);\n",
              "          const docLink = document.createElement('div');\n",
              "          docLink.innerHTML = docLinkHtml;\n",
              "          element.appendChild(docLink);\n",
              "        }\n",
              "      </script>\n",
              "    </div>\n",
              "  </div>\n",
              "  "
            ]
          },
          "metadata": {},
          "execution_count": 13
        }
      ]
    },
    {
      "cell_type": "code",
      "source": [
        "from sklearn.model_selection import GridSearchCV"
      ],
      "metadata": {
        "id": "Fh6R-RAgkNqR"
      },
      "execution_count": 15,
      "outputs": []
    },
    {
      "cell_type": "code",
      "source": [
        "#hyper parameter tuning\n",
        "#parameters considered for log are\n",
        "#solver,penalty,C,max_iter\n",
        "#ref:https://medium.com/codex/do-i-need-to-tune-logistic-regression-hyperparameters-1cb2b81fca69\n",
        "parameter = [{'solver':['newton-cg', 'lbfgs', 'liblinear', 'sag', 'saga'],\n",
        "              'penalty':['l2'],\n",
        "              'C': [100, 10, 1.0, 0.1, 0.01],\n",
        "              'max_iter':[10,30,50,75,100]\n",
        "             }]\n",
        "gs = GridSearchCV(lr,param_grid=parameter,cv=5,scoring='recall')\n",
        "mdl = gs.fit(xtrain,ytrain)"
      ],
      "metadata": {
        "id": "jcVcEVOqkFaW"
      },
      "execution_count": null,
      "outputs": []
    },
    {
      "cell_type": "code",
      "source": [
        "mdl.best_params_"
      ],
      "metadata": {
        "colab": {
          "base_uri": "https://localhost:8080/"
        },
        "id": "vH7WUQcpkww8",
        "outputId": "b57d7bad-7619-403b-e03e-250acd0f1db3"
      },
      "execution_count": 18,
      "outputs": [
        {
          "output_type": "execute_result",
          "data": {
            "text/plain": [
              "{'C': 100, 'max_iter': 10, 'penalty': 'l2', 'solver': 'sag'}"
            ]
          },
          "metadata": {},
          "execution_count": 18
        }
      ]
    },
    {
      "cell_type": "code",
      "source": [
        "from warnings import filterwarnings\n",
        "filterwarnings('ignore')"
      ],
      "metadata": {
        "id": "W5Udo8vskJDx"
      },
      "execution_count": 17,
      "outputs": []
    },
    {
      "cell_type": "code",
      "source": [
        "parameter = [{'solver':['newton-cg', 'lbfgs', 'liblinear', 'sag', 'saga'],\n",
        "              'penalty':['l2'],\n",
        "              'C': [100,120,110,150],\n",
        "              'max_iter':[2,5,7,10]\n",
        "             }]\n",
        "gs = GridSearchCV(lr,param_grid=parameter,cv=5,scoring='recall')\n",
        "mdl_1 = gs.fit(xtrain,ytrain)"
      ],
      "metadata": {
        "id": "nEKg_tAbkv0S"
      },
      "execution_count": 19,
      "outputs": []
    },
    {
      "cell_type": "code",
      "source": [
        "mdl_1.best_params_"
      ],
      "metadata": {
        "colab": {
          "base_uri": "https://localhost:8080/"
        },
        "id": "uTDAcBaPlS9N",
        "outputId": "bfc6e684-d35a-46d9-dd65-28c9ba31c870"
      },
      "execution_count": 20,
      "outputs": [
        {
          "output_type": "execute_result",
          "data": {
            "text/plain": [
              "{'C': 100, 'max_iter': 2, 'penalty': 'l2', 'solver': 'newton-cg'}"
            ]
          },
          "metadata": {},
          "execution_count": 20
        }
      ]
    },
    {
      "cell_type": "code",
      "source": [
        "parameter = [{'solver':['liblinear'],\n",
        "              'penalty':['l1','l2'],\n",
        "              'C': [100,120,110,150],\n",
        "              'max_iter':[2,5,7,10]\n",
        "             }]\n",
        "gs = GridSearchCV(lr,param_grid=parameter,cv=5,scoring='recall')\n",
        "mdl_2 = gs.fit(xtrain,ytrain)"
      ],
      "metadata": {
        "id": "oCUGZazOlVdP"
      },
      "execution_count": 24,
      "outputs": []
    },
    {
      "cell_type": "code",
      "source": [
        "mdl_2.best_params_"
      ],
      "metadata": {
        "colab": {
          "base_uri": "https://localhost:8080/"
        },
        "id": "1USdrBLwmMsC",
        "outputId": "9ed0a8a9-5f31-4e53-8296-ea1f301109ee"
      },
      "execution_count": 25,
      "outputs": [
        {
          "output_type": "execute_result",
          "data": {
            "text/plain": [
              "{'C': 100, 'max_iter': 2, 'penalty': 'l2', 'solver': 'liblinear'}"
            ]
          },
          "metadata": {},
          "execution_count": 25
        }
      ]
    },
    {
      "cell_type": "code",
      "source": [
        "#{'C': 100, 'max_iter': 10, 'penalty': 'l2', 'solver': 'sag'}\n",
        "log_tuned_mdl_1 = LogisticRegression(penalty='l2',max_iter=10,C = 100,solver = 'sag')\n",
        "train_acc,train_recall,train_preci,train_f1 = model(log_tuned_mdl_1,xtrain,ytrain,xtest,ytest,'X')\n",
        "test_acc,test_recall,test_preci,test_f1 = model(log_tuned_mdl_1,xtrain,ytrain,xtest,ytest,'')\n",
        "update_test_score(\"'Logistic with tuning model_1 with penalty='l2',max_iter=10,C = 100,solver = 'sag'\",train_acc,test_acc,train_recall,test_recall,train_preci,test_preci,train_f1,test_f1)"
      ],
      "metadata": {
        "id": "csmXTPpToIxs"
      },
      "execution_count": 58,
      "outputs": []
    },
    {
      "cell_type": "code",
      "source": [
        "#{'C': 100, 'max_iter': 2, 'penalty': 'l2', 'solver': 'newton-cg'}\n",
        "log_tuned_mdl_2 = LogisticRegression(penalty='l2',max_iter=2,C = 100,solver = 'newton-cg')\n",
        "train_acc,train_recall,train_preci,train_f1 = model(log_tuned_mdl_2,xtrain,ytrain,xtest,ytest,'X')\n",
        "test_acc,test_recall,test_preci,test_f1 = model(log_tuned_mdl_2,xtrain,ytrain,xtest,ytest,'')\n",
        "update_test_score(\"'Logistic with tuning model_2 with penalty='l2',max_iter=2,C = 100,solver = 'newton-cg'\",train_acc,test_acc,train_recall,test_recall,train_preci,test_preci,train_f1,test_f1)"
      ],
      "metadata": {
        "id": "K3_fTIZopHdL"
      },
      "execution_count": 59,
      "outputs": []
    },
    {
      "cell_type": "code",
      "source": [
        "#{'C': 100, 'max_iter': 2, 'penalty': 'l2', 'solver': 'liblinear'}\n",
        "log_tuned_mdl_3 = LogisticRegression(penalty='l2',max_iter=2,C = 100,solver = 'liblinear')\n",
        "train_acc,train_recall,train_preci,train_f1 = model(log_tuned_mdl_3,xtrain,ytrain,xtest,ytest,'X')\n",
        "test_acc,test_recall,test_preci,test_f1 = model(log_tuned_mdl_3,xtrain,ytrain,xtest,ytest,'')\n",
        "update_test_score(\"'Logistic with tuning model_3 with 'C': 100, 'max_iter': 2, 'penalty': 'l2', 'solver': 'liblinear'\",train_acc,test_acc,train_recall,test_recall,train_preci,test_preci,train_f1,test_f1)"
      ],
      "metadata": {
        "id": "wtOhmQS2p6Qh"
      },
      "execution_count": 60,
      "outputs": []
    },
    {
      "cell_type": "code",
      "source": [
        "#saga’ - [‘elasticnet’, ‘l1’, ‘l2’, ‘none’]\n",
        "parameter = [{'solver':['saga'],\n",
        "              'penalty':['l1','l2','elasticnet','none'],\n",
        "              'C': [100,120,110,150],\n",
        "              'max_iter':[2,5,7,10]\n",
        "             }]\n",
        "gs = GridSearchCV(lr,param_grid=parameter,cv=5,scoring='recall')\n",
        "mdl_3 = gs.fit(xtrain,ytrain)"
      ],
      "metadata": {
        "id": "2IRIlMSwrBPf"
      },
      "execution_count": 52,
      "outputs": []
    },
    {
      "cell_type": "code",
      "source": [
        "mdl_3.best_params_"
      ],
      "metadata": {
        "colab": {
          "base_uri": "https://localhost:8080/"
        },
        "id": "U6AqUau1rYrQ",
        "outputId": "a36ceb8e-e6eb-4cbe-e359-ca571c74bab9"
      },
      "execution_count": 53,
      "outputs": [
        {
          "output_type": "execute_result",
          "data": {
            "text/plain": [
              "{'C': 100, 'max_iter': 2, 'penalty': 'l1', 'solver': 'saga'}"
            ]
          },
          "metadata": {},
          "execution_count": 53
        }
      ]
    },
    {
      "cell_type": "code",
      "source": [
        "#{'C': 100, 'max_iter': 2, 'penalty': 'l1', 'solver': 'saga'}\n",
        "log_tuned_mdl_4 = LogisticRegression(penalty='l1',max_iter=2,C = 100,solver = 'saga')\n",
        "train_acc,train_recall,train_preci,train_f1 = model(log_tuned_mdl_4,xtrain,ytrain,xtest,ytest,'X')\n",
        "test_acc,test_recall,test_preci,test_f1 = model(log_tuned_mdl_4,xtrain,ytrain,xtest,ytest,'')\n",
        "update_test_score(\"'Logistic with tuning model_4 with penalty='l1',max_iter=2,C = 100,solver = 'saga'\",train_acc,test_acc,train_recall,test_recall,train_preci,test_preci,train_f1,test_f1)"
      ],
      "metadata": {
        "id": "TU39-ZJ0rarC"
      },
      "execution_count": 61,
      "outputs": []
    },
    {
      "cell_type": "code",
      "source": [
        "df_log_reg_scorecard"
      ],
      "metadata": {
        "colab": {
          "base_uri": "https://localhost:8080/",
          "height": 337
        },
        "id": "Lcol9vOlrwkG",
        "outputId": "f015cb4a-df97-46c5-eaaa-6eaa95e0fc52"
      },
      "execution_count": 62,
      "outputs": [
        {
          "output_type": "execute_result",
          "data": {
            "text/plain": [
              "                                               model  Train accuracy  \\\n",
              "0                            Logistic without tuning        0.973944   \n",
              "1  'Logistic with tuning model_1 with penalty='l2...        0.660828   \n",
              "2  'Logistic with tuning model_2 with penalty='l2...        0.594701   \n",
              "3  'Logistic with tuning model_3 with 'C': 100, '...        0.621852   \n",
              "4  'Logistic with tuning model_4 with penalty='l1...        0.658857   \n",
              "\n",
              "   Test accuracy  Train recall  Test recall  Train precision  Test precision  \\\n",
              "0       0.973953      0.000000     0.000000         0.000000        0.000000   \n",
              "1       0.651685      0.134454     0.117647         0.010944        0.009331   \n",
              "2       0.591931      0.210084     0.235294         0.014029        0.015544   \n",
              "3       0.621553      0.193277     0.235294         0.013906        0.016807   \n",
              "4       0.646578      0.142857     0.176471         0.011541        0.013657   \n",
              "\n",
              "   Train f1score  Test f1score  \n",
              "0       0.000000      0.000000  \n",
              "1       0.020240      0.017291  \n",
              "2       0.026302      0.029162  \n",
              "3       0.025945      0.031373  \n",
              "4       0.021357      0.025352  "
            ],
            "text/html": [
              "\n",
              "  <div id=\"df-50708c59-182c-4440-90f4-cb5ad6cbac06\">\n",
              "    <div class=\"colab-df-container\">\n",
              "      <div>\n",
              "<style scoped>\n",
              "    .dataframe tbody tr th:only-of-type {\n",
              "        vertical-align: middle;\n",
              "    }\n",
              "\n",
              "    .dataframe tbody tr th {\n",
              "        vertical-align: top;\n",
              "    }\n",
              "\n",
              "    .dataframe thead th {\n",
              "        text-align: right;\n",
              "    }\n",
              "</style>\n",
              "<table border=\"1\" class=\"dataframe\">\n",
              "  <thead>\n",
              "    <tr style=\"text-align: right;\">\n",
              "      <th></th>\n",
              "      <th>model</th>\n",
              "      <th>Train accuracy</th>\n",
              "      <th>Test accuracy</th>\n",
              "      <th>Train recall</th>\n",
              "      <th>Test recall</th>\n",
              "      <th>Train precision</th>\n",
              "      <th>Test precision</th>\n",
              "      <th>Train f1score</th>\n",
              "      <th>Test f1score</th>\n",
              "    </tr>\n",
              "  </thead>\n",
              "  <tbody>\n",
              "    <tr>\n",
              "      <th>0</th>\n",
              "      <td>Logistic without tuning</td>\n",
              "      <td>0.973944</td>\n",
              "      <td>0.973953</td>\n",
              "      <td>0.000000</td>\n",
              "      <td>0.000000</td>\n",
              "      <td>0.000000</td>\n",
              "      <td>0.000000</td>\n",
              "      <td>0.000000</td>\n",
              "      <td>0.000000</td>\n",
              "    </tr>\n",
              "    <tr>\n",
              "      <th>1</th>\n",
              "      <td>'Logistic with tuning model_1 with penalty='l2...</td>\n",
              "      <td>0.660828</td>\n",
              "      <td>0.651685</td>\n",
              "      <td>0.134454</td>\n",
              "      <td>0.117647</td>\n",
              "      <td>0.010944</td>\n",
              "      <td>0.009331</td>\n",
              "      <td>0.020240</td>\n",
              "      <td>0.017291</td>\n",
              "    </tr>\n",
              "    <tr>\n",
              "      <th>2</th>\n",
              "      <td>'Logistic with tuning model_2 with penalty='l2...</td>\n",
              "      <td>0.594701</td>\n",
              "      <td>0.591931</td>\n",
              "      <td>0.210084</td>\n",
              "      <td>0.235294</td>\n",
              "      <td>0.014029</td>\n",
              "      <td>0.015544</td>\n",
              "      <td>0.026302</td>\n",
              "      <td>0.029162</td>\n",
              "    </tr>\n",
              "    <tr>\n",
              "      <th>3</th>\n",
              "      <td>'Logistic with tuning model_3 with 'C': 100, '...</td>\n",
              "      <td>0.621852</td>\n",
              "      <td>0.621553</td>\n",
              "      <td>0.193277</td>\n",
              "      <td>0.235294</td>\n",
              "      <td>0.013906</td>\n",
              "      <td>0.016807</td>\n",
              "      <td>0.025945</td>\n",
              "      <td>0.031373</td>\n",
              "    </tr>\n",
              "    <tr>\n",
              "      <th>4</th>\n",
              "      <td>'Logistic with tuning model_4 with penalty='l1...</td>\n",
              "      <td>0.658857</td>\n",
              "      <td>0.646578</td>\n",
              "      <td>0.142857</td>\n",
              "      <td>0.176471</td>\n",
              "      <td>0.011541</td>\n",
              "      <td>0.013657</td>\n",
              "      <td>0.021357</td>\n",
              "      <td>0.025352</td>\n",
              "    </tr>\n",
              "  </tbody>\n",
              "</table>\n",
              "</div>\n",
              "      <button class=\"colab-df-convert\" onclick=\"convertToInteractive('df-50708c59-182c-4440-90f4-cb5ad6cbac06')\"\n",
              "              title=\"Convert this dataframe to an interactive table.\"\n",
              "              style=\"display:none;\">\n",
              "        \n",
              "  <svg xmlns=\"http://www.w3.org/2000/svg\" height=\"24px\"viewBox=\"0 0 24 24\"\n",
              "       width=\"24px\">\n",
              "    <path d=\"M0 0h24v24H0V0z\" fill=\"none\"/>\n",
              "    <path d=\"M18.56 5.44l.94 2.06.94-2.06 2.06-.94-2.06-.94-.94-2.06-.94 2.06-2.06.94zm-11 1L8.5 8.5l.94-2.06 2.06-.94-2.06-.94L8.5 2.5l-.94 2.06-2.06.94zm10 10l.94 2.06.94-2.06 2.06-.94-2.06-.94-.94-2.06-.94 2.06-2.06.94z\"/><path d=\"M17.41 7.96l-1.37-1.37c-.4-.4-.92-.59-1.43-.59-.52 0-1.04.2-1.43.59L10.3 9.45l-7.72 7.72c-.78.78-.78 2.05 0 2.83L4 21.41c.39.39.9.59 1.41.59.51 0 1.02-.2 1.41-.59l7.78-7.78 2.81-2.81c.8-.78.8-2.07 0-2.86zM5.41 20L4 18.59l7.72-7.72 1.47 1.35L5.41 20z\"/>\n",
              "  </svg>\n",
              "      </button>\n",
              "      \n",
              "  <style>\n",
              "    .colab-df-container {\n",
              "      display:flex;\n",
              "      flex-wrap:wrap;\n",
              "      gap: 12px;\n",
              "    }\n",
              "\n",
              "    .colab-df-convert {\n",
              "      background-color: #E8F0FE;\n",
              "      border: none;\n",
              "      border-radius: 50%;\n",
              "      cursor: pointer;\n",
              "      display: none;\n",
              "      fill: #1967D2;\n",
              "      height: 32px;\n",
              "      padding: 0 0 0 0;\n",
              "      width: 32px;\n",
              "    }\n",
              "\n",
              "    .colab-df-convert:hover {\n",
              "      background-color: #E2EBFA;\n",
              "      box-shadow: 0px 1px 2px rgba(60, 64, 67, 0.3), 0px 1px 3px 1px rgba(60, 64, 67, 0.15);\n",
              "      fill: #174EA6;\n",
              "    }\n",
              "\n",
              "    [theme=dark] .colab-df-convert {\n",
              "      background-color: #3B4455;\n",
              "      fill: #D2E3FC;\n",
              "    }\n",
              "\n",
              "    [theme=dark] .colab-df-convert:hover {\n",
              "      background-color: #434B5C;\n",
              "      box-shadow: 0px 1px 3px 1px rgba(0, 0, 0, 0.15);\n",
              "      filter: drop-shadow(0px 1px 2px rgba(0, 0, 0, 0.3));\n",
              "      fill: #FFFFFF;\n",
              "    }\n",
              "  </style>\n",
              "\n",
              "      <script>\n",
              "        const buttonEl =\n",
              "          document.querySelector('#df-50708c59-182c-4440-90f4-cb5ad6cbac06 button.colab-df-convert');\n",
              "        buttonEl.style.display =\n",
              "          google.colab.kernel.accessAllowed ? 'block' : 'none';\n",
              "\n",
              "        async function convertToInteractive(key) {\n",
              "          const element = document.querySelector('#df-50708c59-182c-4440-90f4-cb5ad6cbac06');\n",
              "          const dataTable =\n",
              "            await google.colab.kernel.invokeFunction('convertToInteractive',\n",
              "                                                     [key], {});\n",
              "          if (!dataTable) return;\n",
              "\n",
              "          const docLinkHtml = 'Like what you see? Visit the ' +\n",
              "            '<a target=\"_blank\" href=https://colab.research.google.com/notebooks/data_table.ipynb>data table notebook</a>'\n",
              "            + ' to learn more about interactive tables.';\n",
              "          element.innerHTML = '';\n",
              "          dataTable['output_type'] = 'display_data';\n",
              "          await google.colab.output.renderOutput(dataTable, element);\n",
              "          const docLink = document.createElement('div');\n",
              "          docLink.innerHTML = docLinkHtml;\n",
              "          element.appendChild(docLink);\n",
              "        }\n",
              "      </script>\n",
              "    </div>\n",
              "  </div>\n",
              "  "
            ]
          },
          "metadata": {},
          "execution_count": 62
        }
      ]
    }
  ]
}